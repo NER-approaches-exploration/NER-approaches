{
 "cells": [
  {
   "cell_type": "code",
   "id": "1ed2d03824ea39e3",
   "metadata": {
    "collapsed": true,
    "ExecuteTime": {
     "end_time": "2024-07-05T09:42:27.566511Z",
     "start_time": "2024-07-05T09:42:25.690399Z"
    }
   },
   "source": [
    "# -*- coding: utf-8 -*-\n",
    "import pandas as pd\n",
    "from evaluate import load"
   ],
   "outputs": [],
   "execution_count": 1
  },
  {
   "metadata": {
    "ExecuteTime": {
     "end_time": "2024-07-05T09:42:27.570815Z",
     "start_time": "2024-07-05T09:42:27.567824Z"
    }
   },
   "cell_type": "code",
   "source": [
    "\n",
    "def compute_metrics(test, predictions):\n",
    "    metric = load(\"seqeval\")\n",
    "    return metric.compute(predictions=predictions, references=test)\n"
   ],
   "id": "a7fc34c1117aacb0",
   "outputs": [],
   "execution_count": 2
  },
  {
   "metadata": {
    "ExecuteTime": {
     "end_time": "2024-07-05T09:42:27.574086Z",
     "start_time": "2024-07-05T09:42:27.571702Z"
    }
   },
   "cell_type": "code",
   "source": [
    "\n",
    "# Load the dataset from the Excel file\n",
    "def load_dataset(excel_path):\n",
    "    return pd.read_excel(excel_path)\n"
   ],
   "id": "94e8b90928fe601f",
   "outputs": [],
   "execution_count": 3
  },
  {
   "metadata": {
    "ExecuteTime": {
     "end_time": "2024-07-05T09:42:27.579766Z",
     "start_time": "2024-07-05T09:42:27.574874Z"
    }
   },
   "cell_type": "code",
   "source": [
    "def reformat_tags(path):\n",
    "    df = load_dataset(path)\n",
    "    df_bio = []\n",
    "    for _, row in df.iterrows():\n",
    "        match (row['Entity Type'], row['BIOES']):\n",
    "            case ('NONE', _):\n",
    "                df_bio.append('O')\n",
    "            case (_, 'B-BIOES'):\n",
    "                df_bio.append('B-' + row['Entity Type'])\n",
    "            case (_, 'S-BIOES'):\n",
    "                df_bio.append('B-' + row['Entity Type'])\n",
    "            case (_, 'I-BIOES'):\n",
    "                df_bio.append('I-' + row['Entity Type'])\n",
    "            case (_, 'E-BIOES'):\n",
    "                df_bio.append('I-' + row['Entity Type'])\n",
    "            case (_, _):\n",
    "                df_bio.append('O')\n",
    "    df['BIO'] = df_bio\n",
    "    return df\n",
    "    \n",
    "            "
   ],
   "id": "5a87ba17a4b791f",
   "outputs": [],
   "execution_count": 4
  },
  {
   "metadata": {
    "ExecuteTime": {
     "end_time": "2024-07-05T09:42:27.584069Z",
     "start_time": "2024-07-05T09:42:27.581497Z"
    }
   },
   "cell_type": "code",
   "source": [
    "def reformat_structure(df):\n",
    "    grouped_df = df.groupby('Sentence').agg(lambda x: list(x)).reset_index()    \n",
    "    grouped_df.set_index('Sentence', inplace=True)    \n",
    "    return grouped_df"
   ],
   "id": "eddd2d39700867bb",
   "outputs": [],
   "execution_count": 5
  },
  {
   "metadata": {
    "ExecuteTime": {
     "end_time": "2024-07-05T09:42:27.588976Z",
     "start_time": "2024-07-05T09:42:27.584812Z"
    }
   },
   "cell_type": "code",
   "source": [
    "# Function for recognizing named entities in text using a dictionary from Excel\n",
    "def recognize_named_entities(train_path, test_path):\n",
    "    # Dataset loading\n",
    "    train_df = reformat_structure(reformat_tags(train_path))\n",
    "    test_df = reformat_structure(reformat_tags(test_path))\n",
    "    named_entity_dict = {(word, prev_tag): tag for _, row in train_df.iterrows() for word, prev_tag, tag in zip(row['Word'], ['O'] + row['BIO'][:-1], row['BIO']) if tag}\n",
    "    \n",
    "    recognized_entities = []\n",
    "    for sentence in test_df['Word']:\n",
    "        last_tag = 'O'\n",
    "        pred_sentence = []\n",
    "        for word in sentence:\n",
    "            if (word, last_tag) in named_entity_dict:\n",
    "                last_tag = named_entity_dict[(word, last_tag)]\n",
    "                pred_sentence.append(last_tag)\n",
    "            else:\n",
    "                last_tag = 'O'\n",
    "                pred_sentence.append(last_tag)\n",
    "        recognized_entities.append(pred_sentence)\n",
    "    return compute_metrics(test_df['BIO'].tolist(), recognized_entities)\n",
    "    \n"
   ],
   "id": "7a1ac125f80a86ff",
   "outputs": [],
   "execution_count": 6
  },
  {
   "metadata": {
    "ExecuteTime": {
     "end_time": "2024-07-05T09:42:31.484085Z",
     "start_time": "2024-07-05T09:42:27.589667Z"
    }
   },
   "cell_type": "code",
   "source": [
    "\n",
    "test_path= 'test_data.xlsx'\n",
    "train_path = 'train_data.xlsx' # here we should insert a link for .xlsx file, which is available here DOI:10.17632/p6rcwf4p9c.1\n",
    "metrics = recognize_named_entities(train_path, test_path)\n",
    "metrics\n",
    "\n"
   ],
   "id": "initial_id",
   "outputs": [
    {
     "data": {
      "text/plain": [
       "{'City': {'precision': np.float64(0.9565217391304348),\n",
       "  'recall': np.float64(0.7096774193548387),\n",
       "  'f1': np.float64(0.8148148148148149),\n",
       "  'number': np.int64(31)},\n",
       " 'Country': {'precision': np.float64(0.9333333333333333),\n",
       "  'recall': np.float64(0.3111111111111111),\n",
       "  'f1': np.float64(0.4666666666666667),\n",
       "  'number': np.int64(45)},\n",
       " 'Country_B': {'precision': np.float64(1.0),\n",
       "  'recall': np.float64(0.14705882352941177),\n",
       "  'f1': np.float64(0.25641025641025644),\n",
       "  'number': np.int64(34)},\n",
       " 'Date': {'precision': np.float64(0.9058823529411765),\n",
       "  'recall': np.float64(0.7938144329896907),\n",
       "  'f1': np.float64(0.8461538461538461),\n",
       "  'number': np.int64(97)},\n",
       " 'Organization': {'precision': np.float64(0.7397260273972602),\n",
       "  'recall': np.float64(0.8059701492537313),\n",
       "  'f1': np.float64(0.7714285714285715),\n",
       "  'number': np.int64(67)},\n",
       " 'Position': {'precision': np.float64(0.9333333333333333),\n",
       "  'recall': np.float64(0.7368421052631579),\n",
       "  'f1': np.float64(0.8235294117647058),\n",
       "  'number': np.int64(19)},\n",
       " 'overall_precision': np.float64(0.8611111111111112),\n",
       " 'overall_recall': np.float64(0.6348122866894198),\n",
       " 'overall_f1': np.float64(0.730844793713163),\n",
       " 'overall_accuracy': 0.9621134020618557}"
      ]
     },
     "execution_count": 7,
     "metadata": {},
     "output_type": "execute_result"
    }
   ],
   "execution_count": 7
  },
  {
   "metadata": {
    "ExecuteTime": {
     "end_time": "2024-07-05T09:42:31.486527Z",
     "start_time": "2024-07-05T09:42:31.484826Z"
    }
   },
   "cell_type": "code",
   "source": "",
   "id": "180c6123a80f4a50",
   "outputs": [],
   "execution_count": 7
  }
 ],
 "metadata": {
  "kernelspec": {
   "display_name": "Python 3",
   "language": "python",
   "name": "python3"
  },
  "language_info": {
   "codemirror_mode": {
    "name": "ipython",
    "version": 2
   },
   "file_extension": ".py",
   "mimetype": "text/x-python",
   "name": "python",
   "nbconvert_exporter": "python",
   "pygments_lexer": "ipython2",
   "version": "2.7.6"
  }
 },
 "nbformat": 4,
 "nbformat_minor": 5
}
