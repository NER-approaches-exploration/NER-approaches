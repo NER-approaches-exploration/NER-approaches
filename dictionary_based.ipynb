{
 "cells": [
  {
   "cell_type": "code",
   "id": "initial_id",
   "metadata": {
    "collapsed": true,
    "ExecuteTime": {
     "end_time": "2024-07-05T11:32:41.977709Z",
     "start_time": "2024-07-05T11:32:41.974602Z"
    }
   },
   "source": [
    "from datasets import load_dataset\n",
    "import numpy as np\n",
    "import pandas as pd\n",
    "from evaluate import load\n"
   ],
   "outputs": [],
   "execution_count": 7
  },
  {
   "metadata": {
    "ExecuteTime": {
     "end_time": "2024-07-05T11:32:41.981584Z",
     "start_time": "2024-07-05T11:32:41.979224Z"
    }
   },
   "cell_type": "code",
   "source": [
    "# data = datasets.load_dataset(\"DFKI-SLT/cross_ner\", \"conll2003\"\n",
    "def get_data(dataset, config):\n",
    "    return load_dataset(dataset, config)\n",
    "\n"
   ],
   "id": "7e50caf78ddf8c50",
   "outputs": [],
   "execution_count": 8
  },
  {
   "metadata": {
    "ExecuteTime": {
     "end_time": "2024-07-05T11:32:41.985450Z",
     "start_time": "2024-07-05T11:32:41.982632Z"
    }
   },
   "cell_type": "code",
   "source": [
    "datasets = {\n",
    "    \"universalner/universal_ner\": ['ceb_gja', 'zh_gsd', 'zh_gsdsimp', 'zh_pud', 'hr_set', 'da_ddt', 'en_ewt', 'en_pud', 'de_pud', 'pt_bosque', 'pt_pud', 'ru_pud', 'sr_set', 'sk_snk', 'sv_pud', 'sv_talbanken', 'tl_trg', 'tl_ugnayan'],\n",
    "    \"DFKI-SLT/cross_ner\" : ['ai', 'conll2003', 'literature', 'music', 'politics', 'science']\n",
    "}"
   ],
   "id": "7ae394f7e61761fa",
   "outputs": [],
   "execution_count": 9
  },
  {
   "metadata": {
    "ExecuteTime": {
     "end_time": "2024-07-05T11:32:41.990164Z",
     "start_time": "2024-07-05T11:32:41.987043Z"
    }
   },
   "cell_type": "code",
   "source": [
    "def label_map(data): # Accessing the label names from the 'ner_tags' feature.\n",
    "    label_names = data['test'].features['ner_tags'].feature.names\n",
    "    # Create mapping from label ID to label string name\n",
    "    get_label = {k: v for k, v in enumerate(label_names)} \n",
    "# Create reverse mapping from label name to label ID\n",
    "    get_id = {v: k for k, v in enumerate(label_names)}\n",
    "    return lambda x : get_label[x], lambda label : get_id[label]\n",
    "\n"
   ],
   "id": "90829d03457906bc",
   "outputs": [],
   "execution_count": 10
  },
  {
   "metadata": {
    "ExecuteTime": {
     "end_time": "2024-07-05T11:32:41.996471Z",
     "start_time": "2024-07-05T11:32:41.991297Z"
    }
   },
   "cell_type": "code",
   "source": [
    "def recognize_named_entities(dataset):\n",
    "    id2label, label2id = label_map(dataset)\n",
    "    border = int(len(dataset['test']) // 2)\n",
    "    # print(border)\n",
    "    train_df = pd.DataFrame(dataset['test']).iloc[:border] if len(dataset) == 1 else pd.DataFrame(dataset['train'])\n",
    "    test_df = pd.DataFrame(dataset['test']).iloc[border:] if len(dataset) == 1 else pd.DataFrame(dataset['test'])\n",
    "    # validation_df = pd.DataFrame(dataset['validation'])\n",
    "    # train_df = pd.concat([train_df, validation_df], ignore_index=True)\n",
    "    named_entity_dict = {(tok, id2label(prev)): id2label(tag) for _, row in train_df.iterrows() for tok, prev, tag in zip(row['tokens'], [0] + row['ner_tags'][:-1], row['ner_tags']) if tag}\n",
    "    recognized_entities = []\n",
    "    for sentence in test_df['tokens']:\n",
    "        last_tag = 'O'\n",
    "        pred_sentence = []\n",
    "        for word in sentence:\n",
    "            if (word, last_tag) in named_entity_dict:\n",
    "                last_tag = named_entity_dict[(word, last_tag)]\n",
    "                pred_sentence.append(last_tag)\n",
    "            else:\n",
    "                last_tag = 'O'\n",
    "                pred_sentence.append(last_tag)\n",
    "        recognized_entities.append(pred_sentence)\n",
    "    metric = load(\"seqeval\")\n",
    "    res = metric.compute(predictions=recognized_entities, references=[[id2label(tag) for tag in sentence]  for sentence in test_df['ner_tags']])\n",
    "    return res['overall_f1'], res['overall_precision'], res['overall_recall'] "
   ],
   "id": "fd13c708dde9446f",
   "outputs": [],
   "execution_count": 11
  },
  {
   "metadata": {
    "ExecuteTime": {
     "end_time": "2024-07-05T11:35:01.015080Z",
     "start_time": "2024-07-05T11:32:41.997754Z"
    }
   },
   "cell_type": "code",
   "source": [
    "for dataset, configs in datasets.items():\n",
    "    print(dataset)\n",
    "    for cfg in configs:\n",
    "        print('\\t', cfg)\n",
    "        data = get_data(dataset, cfg)\n",
    "        print('\\t', data['test'].features['ner_tags'].feature.names)\n",
    "        f1, precision, recall = recognize_named_entities(data)\n",
    "        print(f\"\\tprecision: {precision}, recall: {recall}, f1: {f1}\\n\")\n",
    "\n",
    "\n"
   ],
   "id": "b6d898f3f563a89a",
   "outputs": [
    {
     "name": "stdout",
     "output_type": "stream",
     "text": [
      "universalner/universal_ner\n",
      "\t ceb_gja\n",
      "\t ['O', 'B-PER', 'I-PER', 'B-ORG', 'I-ORG', 'B-LOC', 'I-LOC']\n"
     ]
    },
    {
     "name": "stderr",
     "output_type": "stream",
     "text": [
      "/home/kirill/.cache/pypoetry/virtualenvs/bert-JeHI3B9r-py3.11/lib/python3.11/site-packages/seqeval/metrics/v1.py:57: UndefinedMetricWarning: Precision and F-score are ill-defined and being set to 0.0 in labels with no predicted samples. Use `zero_division` parameter to control this behavior.\n",
      "  _warn_prf(average, modifier, msg_start, len(result))\n"
     ]
    },
    {
     "name": "stdout",
     "output_type": "stream",
     "text": [
      "\tprecision: 1.0, recall: 0.047619047619047616, f1: 0.0909090909090909\n",
      "\n",
      "\t zh_gsd\n",
      "\t ['O', 'B-PER', 'I-PER', 'B-ORG', 'I-ORG', 'B-LOC', 'I-LOC']\n",
      "\tprecision: 0.2044491525423729, recall: 0.2516297262059974, f1: 0.2255990648743425\n",
      "\n",
      "\t zh_gsdsimp\n",
      "\t ['O', 'B-PER', 'I-PER', 'B-ORG', 'I-ORG', 'B-LOC', 'I-LOC']\n",
      "\tprecision: 0.052884615384615384, recall: 0.17300131061598953, f1: 0.08100644369438478\n",
      "\n",
      "\t zh_pud\n",
      "\t ['O', 'B-PER', 'I-PER', 'B-ORG', 'I-ORG', 'B-LOC', 'I-LOC']\n",
      "\tprecision: 0.37320574162679426, recall: 0.12322274881516587, f1: 0.1852731591448931\n",
      "\n",
      "\t hr_set\n",
      "\t ['O', 'B-PER', 'I-PER', 'B-ORG', 'I-ORG', 'B-LOC', 'I-LOC']\n",
      "\tprecision: 0.5087260034904014, recall: 0.4155381325730577, f1: 0.45743428795606117\n",
      "\n",
      "\t da_ddt\n",
      "\t ['O', 'B-PER', 'I-PER', 'B-ORG', 'I-ORG', 'B-LOC', 'I-LOC']\n",
      "\tprecision: 0.20938023450586266, recall: 0.2796420581655481, f1: 0.23946360153256704\n",
      "\n",
      "\t en_ewt\n",
      "\t ['O', 'B-PER', 'I-PER', 'B-ORG', 'I-ORG', 'B-LOC', 'I-LOC']\n",
      "\tprecision: 0.1596816976127321, recall: 0.2766544117647059, f1: 0.20248906828119748\n",
      "\n",
      "\t en_pud\n",
      "\t ['O', 'B-PER', 'I-PER', 'B-ORG', 'I-ORG', 'B-LOC', 'I-LOC']\n",
      "\tprecision: 0.03538812785388128, recall: 0.04585798816568047, f1: 0.03994845360824742\n",
      "\n",
      "\t de_pud\n",
      "\t ['O', 'B-PER', 'I-PER', 'B-ORG', 'I-ORG', 'B-LOC', 'I-LOC']\n",
      "\tprecision: 0.2357142857142857, recall: 0.052969502407704656, f1: 0.08650065530799475\n",
      "\n",
      "\t pt_bosque\n",
      "\t ['O', 'B-PER', 'I-PER', 'B-ORG', 'I-ORG', 'B-LOC', 'I-LOC']\n",
      "\tprecision: 0.05919304179753564, recall: 0.20164609053497942, f1: 0.09152035861038477\n",
      "\n",
      "\t pt_pud\n",
      "\t ['O', 'B-PER', 'I-PER', 'B-ORG', 'I-ORG', 'B-LOC', 'I-LOC']\n",
      "\tprecision: 0.6173913043478261, recall: 0.10380116959064327, f1: 0.17772215269086358\n",
      "\n",
      "\t ru_pud\n",
      "\t ['O', 'B-PER', 'I-PER', 'B-ORG', 'I-ORG', 'B-LOC', 'I-LOC']\n",
      "\tprecision: 0.3157894736842105, recall: 0.026865671641791045, f1: 0.04951856946354882\n",
      "\n",
      "\t sr_set\n",
      "\t ['O', 'B-PER', 'I-PER', 'B-ORG', 'I-ORG', 'B-LOC', 'I-LOC']\n",
      "\tprecision: 0.7011128775834659, recall: 0.5206611570247934, f1: 0.5975609756097561\n",
      "\n",
      "\t sk_snk\n",
      "\t ['O', 'B-PER', 'I-PER', 'B-ORG', 'I-ORG', 'B-LOC', 'I-LOC']\n",
      "\tprecision: 0.18951612903225806, recall: 0.05136612021857923, f1: 0.08082545141874461\n",
      "\n",
      "\t sv_pud\n",
      "\t ['O', 'B-PER', 'I-PER', 'B-ORG', 'I-ORG', 'B-LOC', 'I-LOC']\n",
      "\tprecision: 0.618421052631579, recall: 0.07389937106918239, f1: 0.13202247191011235\n",
      "\n",
      "\t sv_talbanken\n",
      "\t ['O', 'B-PER', 'I-PER', 'B-ORG', 'I-ORG', 'B-LOC', 'I-LOC']\n",
      "\tprecision: 0.10591133004926108, recall: 0.2193877551020408, f1: 0.14285714285714285\n",
      "\n",
      "\t tl_trg\n",
      "\t ['O', 'B-PER', 'I-PER', 'B-ORG', 'I-ORG', 'B-LOC', 'I-LOC']\n",
      "\tprecision: 1.0, recall: 0.3333333333333333, f1: 0.5\n",
      "\n",
      "\t tl_ugnayan\n",
      "\t ['O', 'B-PER', 'I-PER', 'B-ORG', 'I-ORG', 'B-LOC', 'I-LOC']\n"
     ]
    },
    {
     "name": "stderr",
     "output_type": "stream",
     "text": [
      "/home/kirill/.cache/pypoetry/virtualenvs/bert-JeHI3B9r-py3.11/lib/python3.11/site-packages/seqeval/metrics/v1.py:57: UndefinedMetricWarning: Precision and F-score are ill-defined and being set to 0.0 due to no predicted samples. Use `zero_division` parameter to control this behavior.\n",
      "  _warn_prf(average, modifier, msg_start, len(result))\n"
     ]
    },
    {
     "name": "stdout",
     "output_type": "stream",
     "text": [
      "\tprecision: 0.0, recall: 0.0, f1: 0.0\n",
      "\n",
      "DFKI-SLT/cross_ner\n",
      "\t ai\n",
      "\t ['O', 'B-academicjournal', 'I-academicjournal', 'B-album', 'I-album', 'B-algorithm', 'I-algorithm', 'B-astronomicalobject', 'I-astronomicalobject', 'B-award', 'I-award', 'B-band', 'I-band', 'B-book', 'I-book', 'B-chemicalcompound', 'I-chemicalcompound', 'B-chemicalelement', 'I-chemicalelement', 'B-conference', 'I-conference', 'B-country', 'I-country', 'B-discipline', 'I-discipline', 'B-election', 'I-election', 'B-enzyme', 'I-enzyme', 'B-event', 'I-event', 'B-field', 'I-field', 'B-literarygenre', 'I-literarygenre', 'B-location', 'I-location', 'B-magazine', 'I-magazine', 'B-metrics', 'I-metrics', 'B-misc', 'I-misc', 'B-musicalartist', 'I-musicalartist', 'B-musicalinstrument', 'I-musicalinstrument', 'B-musicgenre', 'I-musicgenre', 'B-organisation', 'I-organisation', 'B-person', 'I-person', 'B-poem', 'I-poem', 'B-politicalparty', 'I-politicalparty', 'B-politician', 'I-politician', 'B-product', 'I-product', 'B-programlang', 'I-programlang', 'B-protein', 'I-protein', 'B-researcher', 'I-researcher', 'B-scientist', 'I-scientist', 'B-song', 'I-song', 'B-task', 'I-task', 'B-theory', 'I-theory', 'B-university', 'I-university', 'B-writer', 'I-writer']\n",
      "\tprecision: 0.3764219234746639, recall: 0.20121614151464898, f1: 0.2622478386167147\n",
      "\n",
      "\t conll2003\n",
      "\t ['O', 'B-academicjournal', 'I-academicjournal', 'B-album', 'I-album', 'B-algorithm', 'I-algorithm', 'B-astronomicalobject', 'I-astronomicalobject', 'B-award', 'I-award', 'B-band', 'I-band', 'B-book', 'I-book', 'B-chemicalcompound', 'I-chemicalcompound', 'B-chemicalelement', 'I-chemicalelement', 'B-conference', 'I-conference', 'B-country', 'I-country', 'B-discipline', 'I-discipline', 'B-election', 'I-election', 'B-enzyme', 'I-enzyme', 'B-event', 'I-event', 'B-field', 'I-field', 'B-literarygenre', 'I-literarygenre', 'B-location', 'I-location', 'B-magazine', 'I-magazine', 'B-metrics', 'I-metrics', 'B-misc', 'I-misc', 'B-musicalartist', 'I-musicalartist', 'B-musicalinstrument', 'I-musicalinstrument', 'B-musicgenre', 'I-musicgenre', 'B-organisation', 'I-organisation', 'B-person', 'I-person', 'B-poem', 'I-poem', 'B-politicalparty', 'I-politicalparty', 'B-politician', 'I-politician', 'B-product', 'I-product', 'B-programlang', 'I-programlang', 'B-protein', 'I-protein', 'B-researcher', 'I-researcher', 'B-scientist', 'I-scientist', 'B-song', 'I-song', 'B-task', 'I-task', 'B-theory', 'I-theory', 'B-university', 'I-university', 'B-writer', 'I-writer']\n",
      "\tprecision: 0.3708138122505639, recall: 0.3797085998578536, f1: 0.3752084979369678\n",
      "\n",
      "\t literature\n",
      "\t ['O', 'B-academicjournal', 'I-academicjournal', 'B-album', 'I-album', 'B-algorithm', 'I-algorithm', 'B-astronomicalobject', 'I-astronomicalobject', 'B-award', 'I-award', 'B-band', 'I-band', 'B-book', 'I-book', 'B-chemicalcompound', 'I-chemicalcompound', 'B-chemicalelement', 'I-chemicalelement', 'B-conference', 'I-conference', 'B-country', 'I-country', 'B-discipline', 'I-discipline', 'B-election', 'I-election', 'B-enzyme', 'I-enzyme', 'B-event', 'I-event', 'B-field', 'I-field', 'B-literarygenre', 'I-literarygenre', 'B-location', 'I-location', 'B-magazine', 'I-magazine', 'B-metrics', 'I-metrics', 'B-misc', 'I-misc', 'B-musicalartist', 'I-musicalartist', 'B-musicalinstrument', 'I-musicalinstrument', 'B-musicgenre', 'I-musicgenre', 'B-organisation', 'I-organisation', 'B-person', 'I-person', 'B-poem', 'I-poem', 'B-politicalparty', 'I-politicalparty', 'B-politician', 'I-politician', 'B-product', 'I-product', 'B-programlang', 'I-programlang', 'B-protein', 'I-protein', 'B-researcher', 'I-researcher', 'B-scientist', 'I-scientist', 'B-song', 'I-song', 'B-task', 'I-task', 'B-theory', 'I-theory', 'B-university', 'I-university', 'B-writer', 'I-writer']\n",
      "\tprecision: 0.2550091074681239, recall: 0.1235657546337158, f1: 0.16646848989298454\n",
      "\n",
      "\t music\n",
      "\t ['O', 'B-academicjournal', 'I-academicjournal', 'B-album', 'I-album', 'B-algorithm', 'I-algorithm', 'B-astronomicalobject', 'I-astronomicalobject', 'B-award', 'I-award', 'B-band', 'I-band', 'B-book', 'I-book', 'B-chemicalcompound', 'I-chemicalcompound', 'B-chemicalelement', 'I-chemicalelement', 'B-conference', 'I-conference', 'B-country', 'I-country', 'B-discipline', 'I-discipline', 'B-election', 'I-election', 'B-enzyme', 'I-enzyme', 'B-event', 'I-event', 'B-field', 'I-field', 'B-literarygenre', 'I-literarygenre', 'B-location', 'I-location', 'B-magazine', 'I-magazine', 'B-metrics', 'I-metrics', 'B-misc', 'I-misc', 'B-musicalartist', 'I-musicalartist', 'B-musicalinstrument', 'I-musicalinstrument', 'B-musicgenre', 'I-musicgenre', 'B-organisation', 'I-organisation', 'B-person', 'I-person', 'B-poem', 'I-poem', 'B-politicalparty', 'I-politicalparty', 'B-politician', 'I-politician', 'B-product', 'I-product', 'B-programlang', 'I-programlang', 'B-protein', 'I-protein', 'B-researcher', 'I-researcher', 'B-scientist', 'I-scientist', 'B-song', 'I-song', 'B-task', 'I-task', 'B-theory', 'I-theory', 'B-university', 'I-university', 'B-writer', 'I-writer']\n",
      "\tprecision: 0.14014984574702513, recall: 0.09532374100719425, f1: 0.11347011596788582\n",
      "\n",
      "\t politics\n",
      "\t ['O', 'B-academicjournal', 'I-academicjournal', 'B-album', 'I-album', 'B-algorithm', 'I-algorithm', 'B-astronomicalobject', 'I-astronomicalobject', 'B-award', 'I-award', 'B-band', 'I-band', 'B-book', 'I-book', 'B-chemicalcompound', 'I-chemicalcompound', 'B-chemicalelement', 'I-chemicalelement', 'B-conference', 'I-conference', 'B-country', 'I-country', 'B-discipline', 'I-discipline', 'B-election', 'I-election', 'B-enzyme', 'I-enzyme', 'B-event', 'I-event', 'B-field', 'I-field', 'B-literarygenre', 'I-literarygenre', 'B-location', 'I-location', 'B-magazine', 'I-magazine', 'B-metrics', 'I-metrics', 'B-misc', 'I-misc', 'B-musicalartist', 'I-musicalartist', 'B-musicalinstrument', 'I-musicalinstrument', 'B-musicgenre', 'I-musicgenre', 'B-organisation', 'I-organisation', 'B-person', 'I-person', 'B-poem', 'I-poem', 'B-politicalparty', 'I-politicalparty', 'B-politician', 'I-politician', 'B-product', 'I-product', 'B-programlang', 'I-programlang', 'B-protein', 'I-protein', 'B-researcher', 'I-researcher', 'B-scientist', 'I-scientist', 'B-song', 'I-song', 'B-task', 'I-task', 'B-theory', 'I-theory', 'B-university', 'I-university', 'B-writer', 'I-writer']\n",
      "\tprecision: 0.1300695944324454, recall: 0.12877167973390355, f1: 0.12941738299904487\n",
      "\n",
      "\t science\n",
      "\t ['O', 'B-academicjournal', 'I-academicjournal', 'B-album', 'I-album', 'B-algorithm', 'I-algorithm', 'B-astronomicalobject', 'I-astronomicalobject', 'B-award', 'I-award', 'B-band', 'I-band', 'B-book', 'I-book', 'B-chemicalcompound', 'I-chemicalcompound', 'B-chemicalelement', 'I-chemicalelement', 'B-conference', 'I-conference', 'B-country', 'I-country', 'B-discipline', 'I-discipline', 'B-election', 'I-election', 'B-enzyme', 'I-enzyme', 'B-event', 'I-event', 'B-field', 'I-field', 'B-literarygenre', 'I-literarygenre', 'B-location', 'I-location', 'B-magazine', 'I-magazine', 'B-metrics', 'I-metrics', 'B-misc', 'I-misc', 'B-musicalartist', 'I-musicalartist', 'B-musicalinstrument', 'I-musicalinstrument', 'B-musicgenre', 'I-musicgenre', 'B-organisation', 'I-organisation', 'B-person', 'I-person', 'B-poem', 'I-poem', 'B-politicalparty', 'I-politicalparty', 'B-politician', 'I-politician', 'B-product', 'I-product', 'B-programlang', 'I-programlang', 'B-protein', 'I-protein', 'B-researcher', 'I-researcher', 'B-scientist', 'I-scientist', 'B-song', 'I-song', 'B-task', 'I-task', 'B-theory', 'I-theory', 'B-university', 'I-university', 'B-writer', 'I-writer']\n",
      "\tprecision: 0.16179775280898875, recall: 0.11654257041113629, f1: 0.13549115543846443\n",
      "\n"
     ]
    }
   ],
   "execution_count": 12
  },
  {
   "metadata": {
    "ExecuteTime": {
     "end_time": "2024-07-05T11:35:01.018076Z",
     "start_time": "2024-07-05T11:35:01.016462Z"
    }
   },
   "cell_type": "code",
   "source": "",
   "id": "5284741c98066c2e",
   "outputs": [],
   "execution_count": 12
  }
 ],
 "metadata": {
  "kernelspec": {
   "display_name": "Python 3",
   "language": "python",
   "name": "python3"
  },
  "language_info": {
   "codemirror_mode": {
    "name": "ipython",
    "version": 2
   },
   "file_extension": ".py",
   "mimetype": "text/x-python",
   "name": "python",
   "nbconvert_exporter": "python",
   "pygments_lexer": "ipython2",
   "version": "2.7.6"
  }
 },
 "nbformat": 4,
 "nbformat_minor": 5
}
