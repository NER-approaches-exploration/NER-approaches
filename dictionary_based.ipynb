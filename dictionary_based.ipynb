{
 "cells": [
  {
   "cell_type": "code",
   "id": "initial_id",
   "metadata": {
    "collapsed": true,
    "ExecuteTime": {
     "end_time": "2024-07-05T09:41:37.075468Z",
     "start_time": "2024-07-05T09:41:34.721129Z"
    }
   },
   "source": [
    "import datasets\n",
    "import numpy as np\n",
    "import pandas as pd\n",
    "from evaluate import load\n"
   ],
   "outputs": [],
   "execution_count": 1
  },
  {
   "metadata": {
    "ExecuteTime": {
     "end_time": "2024-07-05T09:41:57.625086Z",
     "start_time": "2024-07-05T09:41:37.076622Z"
    }
   },
   "cell_type": "code",
   "source": "data = datasets.load_dataset(\"conll2003\")",
   "id": "7e50caf78ddf8c50",
   "outputs": [],
   "execution_count": 2
  },
  {
   "metadata": {
    "ExecuteTime": {
     "end_time": "2024-07-05T09:41:57.628073Z",
     "start_time": "2024-07-05T09:41:57.625869Z"
    }
   },
   "cell_type": "code",
   "source": "print(data)",
   "id": "7ae394f7e61761fa",
   "outputs": [
    {
     "name": "stdout",
     "output_type": "stream",
     "text": [
      "DatasetDict({\n",
      "    train: Dataset({\n",
      "        features: ['id', 'tokens', 'pos_tags', 'chunk_tags', 'ner_tags'],\n",
      "        num_rows: 14041\n",
      "    })\n",
      "    validation: Dataset({\n",
      "        features: ['id', 'tokens', 'pos_tags', 'chunk_tags', 'ner_tags'],\n",
      "        num_rows: 3250\n",
      "    })\n",
      "    test: Dataset({\n",
      "        features: ['id', 'tokens', 'pos_tags', 'chunk_tags', 'ner_tags'],\n",
      "        num_rows: 3453\n",
      "    })\n",
      "})\n"
     ]
    }
   ],
   "execution_count": 3
  },
  {
   "metadata": {
    "ExecuteTime": {
     "end_time": "2024-07-05T09:41:57.632252Z",
     "start_time": "2024-07-05T09:41:57.628815Z"
    }
   },
   "cell_type": "code",
   "source": [
    "def label_map(data): # Accessing the label names from the 'ner_tags' feature.\n",
    "    label_names = data['train'].features['ner_tags'].feature.names\n",
    "    # Create mapping from label ID to label string name\n",
    "    get_label = {k: v for k, v in enumerate(label_names)} \n",
    "# Create reverse mapping from label name to label ID\n",
    "    get_id = {v: k for k, v in enumerate(label_names)}\n",
    "    return lambda x : get_label[x], lambda label : get_id[label]\n",
    "\n",
    "id2label, label2id = label_map(data)"
   ],
   "id": "90829d03457906bc",
   "outputs": [],
   "execution_count": 4
  },
  {
   "metadata": {
    "ExecuteTime": {
     "end_time": "2024-07-05T09:41:57.637374Z",
     "start_time": "2024-07-05T09:41:57.633547Z"
    }
   },
   "cell_type": "code",
   "source": [
    "def recognize_named_entities(dataset):\n",
    "    train_df = pd.DataFrame(dataset['train'])\n",
    "    named_entity_dict = {(tok, id2label(prev)): id2label(tag) for _, row in train_df.iterrows() for tok, prev, tag in zip(row['tokens'], [0] + row['ner_tags'][:-1], row['ner_tags']) if tag}\n",
    "    test_df = pd.DataFrame(dataset['test'])\n",
    "    recognized_entities = []\n",
    "    for sentence in test_df['tokens']:\n",
    "        last_tag = 'O'\n",
    "        pred_sentence = []\n",
    "        for word in sentence:\n",
    "            if (word, last_tag) in named_entity_dict:\n",
    "                last_tag = named_entity_dict[(word, last_tag)]\n",
    "                pred_sentence.append(last_tag)\n",
    "            else:\n",
    "                last_tag = 'O'\n",
    "                pred_sentence.append(last_tag)\n",
    "        recognized_entities.append(pred_sentence)\n",
    "    return recognized_entities, [[id2label(tag) for tag in sentence]  for sentence in test_df['ner_tags']]"
   ],
   "id": "fd13c708dde9446f",
   "outputs": [],
   "execution_count": 5
  },
  {
   "metadata": {
    "ExecuteTime": {
     "end_time": "2024-07-05T09:42:00.776024Z",
     "start_time": "2024-07-05T09:41:57.638299Z"
    }
   },
   "cell_type": "code",
   "source": [
    "predicts, labels = recognize_named_entities(data)\n",
    "metric = load(\"seqeval\")\n",
    "metric.compute(predictions=predicts, references=labels)\n",
    "\n"
   ],
   "id": "b6d898f3f563a89a",
   "outputs": [
    {
     "data": {
      "text/plain": [
       "{'LOC': {'precision': np.float64(0.6159029649595688),\n",
       "  'recall': np.float64(0.5479616306954437),\n",
       "  'f1': np.float64(0.5799492385786802),\n",
       "  'number': np.int64(1668)},\n",
       " 'MISC': {'precision': np.float64(0.6376582278481012),\n",
       "  'recall': np.float64(0.5740740740740741),\n",
       "  'f1': np.float64(0.6041979010494752),\n",
       "  'number': np.int64(702)},\n",
       " 'ORG': {'precision': np.float64(0.18875780707841777),\n",
       "  'recall': np.float64(0.32751354605659244),\n",
       "  'f1': np.float64(0.23948932423508693),\n",
       "  'number': np.int64(1661)},\n",
       " 'PER': {'precision': np.float64(0.3693107932379714),\n",
       "  'recall': np.float64(0.1756338899196042),\n",
       "  'f1': np.float64(0.23805532271584243),\n",
       "  'number': np.int64(1617)},\n",
       " 'overall_precision': np.float64(0.3719438182764002),\n",
       " 'overall_recall': np.float64(0.37978045325779036),\n",
       " 'overall_f1': np.float64(0.37582128777923784),\n",
       " 'overall_accuracy': 0.8463012813610423}"
      ]
     },
     "execution_count": 6,
     "metadata": {},
     "output_type": "execute_result"
    }
   ],
   "execution_count": 6
  },
  {
   "metadata": {
    "ExecuteTime": {
     "end_time": "2024-07-05T09:42:00.778496Z",
     "start_time": "2024-07-05T09:42:00.776865Z"
    }
   },
   "cell_type": "code",
   "source": "",
   "id": "5284741c98066c2e",
   "outputs": [],
   "execution_count": 6
  }
 ],
 "metadata": {
  "kernelspec": {
   "display_name": "Python 3",
   "language": "python",
   "name": "python3"
  },
  "language_info": {
   "codemirror_mode": {
    "name": "ipython",
    "version": 2
   },
   "file_extension": ".py",
   "mimetype": "text/x-python",
   "name": "python",
   "nbconvert_exporter": "python",
   "pygments_lexer": "ipython2",
   "version": "2.7.6"
  }
 },
 "nbformat": 4,
 "nbformat_minor": 5
}
