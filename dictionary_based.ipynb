{
 "cells": [
  {
   "cell_type": "markdown",
   "source": [
    "## Loading Libraries"
   ],
   "metadata": {
    "collapsed": false
   },
   "id": "32e111396f4a26d3"
  },
  {
   "cell_type": "code",
   "execution_count": 83,
   "outputs": [],
   "source": [
    "from datasets import load_dataset\n",
    "import pandas as pd\n",
    "from evaluate import load\n"
   ],
   "metadata": {
    "collapsed": false,
    "ExecuteTime": {
     "end_time": "2024-07-09T11:08:41.063672900Z",
     "start_time": "2024-07-09T11:08:41.048606400Z"
    }
   },
   "id": "initial_id"
  },
  {
   "cell_type": "markdown",
   "source": [
    "## Loading the data"
   ],
   "metadata": {
    "collapsed": false
   },
   "id": "5ef4bff5dd3d3363"
  },
  {
   "metadata": {
    "ExecuteTime": {
     "end_time": "2024-07-09T11:08:41.668740900Z",
     "start_time": "2024-07-09T11:08:41.648040800Z"
    }
   },
   "cell_type": "code",
   "source": [
    "def get_data(dataset):\n",
    "    return load_dataset(dataset)"
   ],
   "id": "7e50caf78ddf8c50",
   "outputs": [],
   "execution_count": 84
  },
  {
   "metadata": {
    "ExecuteTime": {
     "end_time": "2024-07-09T11:08:42.067211500Z",
     "start_time": "2024-07-09T11:08:42.059716Z"
    }
   },
   "cell_type": "code",
   "source": [
    "datasets = ['gusevski/factrueval2016',\n",
    "            'RCC-MSU/collection3',\n",
    "           'conll2003',\n",
    "           'ghadeermobasher/BC5CDR-Chemical-Disease']"
   ],
   "id": "7ae394f7e61761fa",
   "outputs": [],
   "execution_count": 85
  },
  {
   "metadata": {
    "ExecuteTime": {
     "end_time": "2024-07-09T11:08:42.587242300Z",
     "start_time": "2024-07-09T11:08:42.570494700Z"
    }
   },
   "cell_type": "code",
   "source": [
    "def label_map(data, id):\n",
    "    if id == 0:\n",
    "        label_names = ['O', 'B-PER', 'I-PER' ,'B-ORG','I-ORG' ,'B-LOC' ,'I-LOC']\n",
    "    else:\n",
    "        label_names = data['test'].features['ner_tags'].feature.names\n",
    "    get_label = {k: v for k, v in enumerate(label_names)} \n",
    "    get_id = {v: k for k, v in enumerate(label_names)}\n",
    "    return lambda x : get_label[x], lambda label : get_id[label]"
   ],
   "id": "90829d03457906bc",
   "outputs": [],
   "execution_count": 86
  },
  {
   "cell_type": "markdown",
   "source": [
    "## Recognition"
   ],
   "metadata": {
    "collapsed": false
   },
   "id": "e7a87f89dfaadedc"
  },
  {
   "metadata": {
    "ExecuteTime": {
     "end_time": "2024-07-09T11:08:43.315160800Z",
     "start_time": "2024-07-09T11:08:43.289858600Z"
    }
   },
   "cell_type": "code",
   "source": [
    "def recognize_named_entities(dataset, id):\n",
    "    id2label, label2id = label_map(dataset, id)\n",
    "    border = int(len(dataset['test']) // 2)\n",
    "    if id == 0:\n",
    "        train_df = pd.DataFrame(dataset['test']['data'][0]).iloc[:border] if len(dataset) == 1 else pd.DataFrame(dataset['train']['data'][0])\n",
    "        test_df = pd.DataFrame(dataset['test']['data'][0]).iloc[border:] if len(dataset) == 1 else pd.DataFrame(dataset['test']['data'][0])\n",
    "    else:\n",
    "        train_df = pd.DataFrame(dataset['test']).iloc[:border] if len(dataset) == 1 else pd.DataFrame(dataset['train'])\n",
    "        test_df = pd.DataFrame(dataset['test']).iloc[border:] if len(dataset) == 1 else pd.DataFrame(dataset['test'])\n",
    "    named_entity_dict = {(tok, id2label(prev)): id2label(tag) for _, row in train_df.iterrows() for tok, prev, tag in zip(row['tokens'], [0] + row['ner_tags'][:-1], row['ner_tags']) if tag}\n",
    "    recognized_entities = []\n",
    "    for sentence in test_df['tokens']:\n",
    "        last_tag = 'O'\n",
    "        pred_sentence = []\n",
    "        for word in sentence:\n",
    "            if (word, last_tag) in named_entity_dict:\n",
    "                last_tag = named_entity_dict[(word, last_tag)]\n",
    "                pred_sentence.append(last_tag)\n",
    "            else:\n",
    "                last_tag = 'O'\n",
    "                pred_sentence.append(last_tag)\n",
    "        recognized_entities.append(pred_sentence)\n",
    "    metric = load(\"seqeval\")\n",
    "    res = metric.compute(predictions=recognized_entities, references=[[id2label(tag) for tag in sentence]  for sentence in test_df['ner_tags']])\n",
    "    return res['overall_f1'], res['overall_precision'], res['overall_recall'] "
   ],
   "id": "fd13c708dde9446f",
   "outputs": [],
   "execution_count": 87
  },
  {
   "cell_type": "markdown",
   "source": [
    "## Visualize results"
   ],
   "metadata": {
    "collapsed": false
   },
   "id": "9c6418be44c4dd41"
  },
  {
   "metadata": {
    "ExecuteTime": {
     "end_time": "2024-07-09T11:09:15.917664400Z",
     "start_time": "2024-07-09T11:08:44.188868300Z"
    }
   },
   "cell_type": "code",
   "source": [
    "for i, dataset in enumerate(datasets):\n",
    "    data = get_data(dataset)\n",
    "    f1, precision, recall = recognize_named_entities(data, i)\n",
    "    print(dataset)\n",
    "    print(f\"\\tprecision: {precision}, recall: {recall}, f1: {f1}\\n\")"
   ],
   "id": "b6d898f3f563a89a",
   "outputs": [
    {
     "name": "stderr",
     "output_type": "stream",
     "text": [
      "Repo card metadata block was not found. Setting CardData to empty.\n"
     ]
    },
    {
     "name": "stdout",
     "output_type": "stream",
     "text": [
      "gusevski/factrueval2016\n",
      "\tprecision: 0.7132471728594507, recall: 0.6438206343419614, f1: 0.6767579996167847\n",
      "RCC-MSU/collection3\n",
      "\tprecision: 0.22230864965774735, recall: 0.3571607098225444, f1: 0.27404353245757024\n",
      "conll2003\n",
      "\tprecision: 0.3719438182764002, recall: 0.37978045325779036, f1: 0.37582128777923784\n"
     ]
    },
    {
     "name": "stderr",
     "output_type": "stream",
     "text": [
      "Repo card metadata block was not found. Setting CardData to empty.\n"
     ]
    },
    {
     "name": "stdout",
     "output_type": "stream",
     "text": [
      "ghadeermobasher/BC5CDR-Chemical-Disease\n",
      "\tprecision: 0.203691184424013, recall: 0.3071668875522479, f1: 0.244949392301126\n"
     ]
    }
   ],
   "execution_count": 88
  }
 ],
 "metadata": {
  "kernelspec": {
   "display_name": "Python 3",
   "language": "python",
   "name": "python3"
  },
  "language_info": {
   "codemirror_mode": {
    "name": "ipython",
    "version": 2
   },
   "file_extension": ".py",
   "mimetype": "text/x-python",
   "name": "python",
   "nbconvert_exporter": "python",
   "pygments_lexer": "ipython2",
   "version": "2.7.6"
  }
 },
 "nbformat": 4,
 "nbformat_minor": 5
}
