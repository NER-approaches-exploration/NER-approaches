{
 "cells": [
  {
   "cell_type": "markdown",
   "metadata": {},
   "source": [
    "## Importing libraries"
   ]
  },
  {
   "cell_type": "code",
   "execution_count": 1,
   "metadata": {
    "ExecuteTime": {
     "end_time": "2024-07-09T11:11:37.588958800Z",
     "start_time": "2024-07-09T11:11:31.540021Z"
    }
   },
   "outputs": [
    {
     "name": "stderr",
     "output_type": "stream",
     "text": [
      "[nltk_data] Downloading package averaged_perceptron_tagger to\n",
      "[nltk_data]     C:\\Users\\саня\\AppData\\Roaming\\nltk_data...\n",
      "[nltk_data]   Package averaged_perceptron_tagger is already up-to-\n",
      "[nltk_data]       date!\n"
     ]
    },
    {
     "data": {
      "text/plain": "True"
     },
     "execution_count": 1,
     "metadata": {},
     "output_type": "execute_result"
    }
   ],
   "source": [
    "import nltk\n",
    "from nltk.tag import pos_tag\n",
    "from sklearn_crfsuite import CRF\n",
    "from sklearn.metrics import confusion_matrix\n",
    "import warnings\n",
    "import pandas as pd\n",
    "from seqeval.metrics import f1_score\n",
    "import datasets\n",
    "warnings.filterwarnings('ignore')\n",
    "nltk.download('averaged_perceptron_tagger')"
   ]
  },
  {
   "cell_type": "markdown",
   "metadata": {},
   "source": [
    "## Loading the data"
   ]
  },
  {
   "cell_type": "code",
   "execution_count": 2,
   "outputs": [],
   "source": [
    "dataset = ['gusevski/factrueval2016',\n",
    "           'RCC-MSU/collection3',\n",
    "           'conll2003',\n",
    "           'ghadeermobasher/BC5CDR-Chemical-Disease']"
   ],
   "metadata": {
    "collapsed": false,
    "ExecuteTime": {
     "end_time": "2024-07-09T11:11:37.588958800Z",
     "start_time": "2024-07-09T11:11:37.572957Z"
    }
   }
  },
  {
   "cell_type": "code",
   "execution_count": 3,
   "metadata": {
    "ExecuteTime": {
     "end_time": "2024-07-09T11:11:37.670314400Z",
     "start_time": "2024-07-09T11:11:37.580987300Z"
    }
   },
   "outputs": [],
   "source": [
    "def extract_sentences_and_labels(data, model):\n",
    "    sentences, labels = [], []\n",
    "    if model == 'gusevski/factrueval2016':\n",
    "        data = data['data'][0]\n",
    "    for item in data:\n",
    "        words = item['tokens']\n",
    "        tags = item['ner_tags']\n",
    "        sentences.append(words)\n",
    "        labels.append(tags)\n",
    "    return sentences, labels"
   ]
  },
  {
   "cell_type": "code",
   "execution_count": 4,
   "outputs": [],
   "source": [
    "def convert_labels(labels, model):\n",
    "    if model == 'gusevski/factrueval2016' or model == 'RCC-MSU/collection3':\n",
    "        label_map = {0: 'O', 1: 'B-PER', 2: 'I-PER', 3: 'B-ORG', 4: 'I-ORG', 5: 'B-LOC', 6: 'I-LOC'}\n",
    "    elif model == 'conll2003':\n",
    "        label_map = {0: 'O', 1: 'B-MISC', 2: 'I-MISC', 3: 'B-PER', 4: 'I-PER', 5: 'B-ORG', 6: 'I-ORG', 7: 'B-LOC', 8: 'I-LOC'}\n",
    "    else:\n",
    "        label_map = {0: 'O', 1: 'CH-DIS', 2: 'DIS', 3: 'A-CH', 4: 'CH'}\n",
    "    return [[label_map[tag] for tag in sent] for sent in labels]"
   ],
   "metadata": {
    "collapsed": false,
    "ExecuteTime": {
     "end_time": "2024-07-09T11:11:37.686524400Z",
     "start_time": "2024-07-09T11:11:37.597193100Z"
    }
   }
  },
  {
   "cell_type": "code",
   "execution_count": 5,
   "metadata": {
    "ExecuteTime": {
     "end_time": "2024-07-09T11:11:37.686524400Z",
     "start_time": "2024-07-09T11:11:37.613530100Z"
    }
   },
   "outputs": [],
   "source": [
    "def usage_model(model):\n",
    "    data = datasets.load_dataset(model, trust_remote_code=True)\n",
    "    train_path = data['train']\n",
    "    test_path = data['test']\n",
    "    val_path = data['validation']\n",
    "    return train_path, test_path, val_path"
   ]
  },
  {
   "cell_type": "code",
   "execution_count": 6,
   "metadata": {
    "ExecuteTime": {
     "end_time": "2024-07-09T11:11:37.686524400Z",
     "start_time": "2024-07-09T11:11:37.637797100Z"
    }
   },
   "outputs": [],
   "source": [
    "def convert(model):\n",
    "    train_path, test_path, val_path = usage_model(model)\n",
    "    \n",
    "    train_sentences, train_labels = extract_sentences_and_labels(train_path, model)\n",
    "    train_labels = convert_labels(train_labels, model)\n",
    "    \n",
    "    test_sentences, test_labels = extract_sentences_and_labels(test_path, model)\n",
    "    test_labels = convert_labels(test_labels, model)\n",
    "    \n",
    "    val_sentences, val_labels = extract_sentences_and_labels(val_path, model)\n",
    "    val_labels = convert_labels(val_labels, model)\n",
    "    return train_sentences, train_labels, test_sentences, test_labels"
   ]
  },
  {
   "cell_type": "markdown",
   "source": [
    "## Extracting features"
   ],
   "metadata": {
    "collapsed": false
   }
  },
  {
   "cell_type": "code",
   "execution_count": 7,
   "metadata": {
    "ExecuteTime": {
     "end_time": "2024-07-09T11:11:37.686524400Z",
     "start_time": "2024-07-09T11:11:37.662264Z"
    }
   },
   "outputs": [],
   "source": [
    "def sent2feats(sentence):\n",
    "    feats = []\n",
    "    sen_tags = pos_tag(sentence)\n",
    "    for i in range(0, len(sentence)):\n",
    "        word = sentence[i]\n",
    "        word_feats = {'word': word}\n",
    "        if i == 0:\n",
    "            word_feats['prevWord'] = word_feats['prevSecondWord'] = \"<S>\"\n",
    "        elif i == 1:\n",
    "            word_feats['prevWord'] = sentence[0]\n",
    "            word_feats['prevSecondWord'] = '</S>'\n",
    "        else:\n",
    "            word_feats['prevWord'] = sentence[i-1]\n",
    "            word_feats['prevSecondWord'] = sentence[i-2]\n",
    "        if i == len(sentence)-2:\n",
    "            word_feats['nextWord'] = sentence[i+1]\n",
    "            word_feats['nextNextWord'] = '</S>'\n",
    "        elif i==len(sentence)-1:\n",
    "            word_feats['nextWord'] = '</S>'\n",
    "            word_feats['nextNextWord'] = '</S>'\n",
    "        else:\n",
    "            word_feats['nextWord'] = sentence[i+1]\n",
    "            word_feats['nextNextWord'] = sentence[i+2]\n",
    "        word_feats['tag'] = sen_tags[i][1]\n",
    "        if i == 0:\n",
    "            word_feats[\"prevTag\"] = word_feats[\"prevSecondTag\"] = \"<S>\"\n",
    "        elif i == 1:\n",
    "            word_feats[\"prevTag\"] = sen_tags[0][1]\n",
    "            word_feats[\"prevSecondTag\"] = \"</S>\"\n",
    "        else:\n",
    "            word_feats[\"prevTag\"] = sen_tags[i - 1][1]\n",
    "            word_feats[\"prevSecondTag\"] = sen_tags[i - 2][1]\n",
    "        if i == len(sentence) - 2:\n",
    "            word_feats[\"nextTag\"] = sen_tags[i + 1][1]\n",
    "            word_feats[\"nextNextTag\"] = \"</S>\"\n",
    "        elif i == len(sentence) - 1:\n",
    "            word_feats[\"nextTag\"] = \"</S>\"\n",
    "            word_feats[\"nextNextTag\"] = \"</S>\"\n",
    "        else:\n",
    "            word_feats[\"nextTag\"] = sen_tags[i + 1][1]\n",
    "            word_feats[\"nextNextTag\"] = sen_tags[i + 2][1]\n",
    "        feats.append(word_feats)\n",
    "    return feats"
   ]
  },
  {
   "cell_type": "code",
   "execution_count": 8,
   "metadata": {
    "ExecuteTime": {
     "end_time": "2024-07-09T11:11:37.686524400Z",
     "start_time": "2024-07-09T11:11:37.670314400Z"
    }
   },
   "outputs": [],
   "source": [
    "def get_feats_conll(sentences, labels):\n",
    "    feats = [sent2feats(sentence) for sentence in sentences]\n",
    "    return feats, labels"
   ]
  },
  {
   "cell_type": "code",
   "execution_count": 9,
   "metadata": {
    "ExecuteTime": {
     "end_time": "2024-07-09T11:11:37.743285400Z",
     "start_time": "2024-07-09T11:11:37.678522300Z"
    }
   },
   "outputs": [],
   "source": [
    "def prepare_df(test_data, y_pred):\n",
    "    data = []\n",
    "    for item, pred in zip(test_data, y_pred):\n",
    "        text = item[0]\n",
    "        gt = item[1]\n",
    "        data.append({'text': text, 'ground_truth': gt, 'pred': pred})\n",
    "    df = pd.DataFrame(data)\n",
    "    return df\n"
   ]
  },
  {
   "cell_type": "markdown",
   "metadata": {},
   "source": [
    "### Training a model"
   ]
  },
  {
   "cell_type": "code",
   "execution_count": 10,
   "metadata": {
    "ExecuteTime": {
     "end_time": "2024-07-09T11:11:37.743285400Z",
     "start_time": "2024-07-09T11:11:37.710738200Z"
    }
   },
   "outputs": [],
   "source": [
    "def print_cm(cm, labels):\n",
    "    print(\"\\n\")\n",
    "    column_width = max([len(x) for x in labels] + [5])\n",
    "    empty_cell = \" \" * column_width\n",
    "    print(\"    \" + empty_cell, end=\" \")\n",
    "    for label in labels:\n",
    "        print(\"%{0}s\".format(column_width) % label, end=\" \")\n",
    "    print()\n",
    "    for i, label1 in enumerate(labels):\n",
    "        print(\"    %{0}s\".format(column_width) % label1, end=\" \")\n",
    "        sum = 0\n",
    "        for j in range(len(labels)):\n",
    "            cell = \"%{0}.0f\".format(column_width) % cm[i, j]\n",
    "            sum = sum + int(cell)\n",
    "            print(cell, end=\" \")\n",
    "        print(sum)"
   ]
  },
  {
   "cell_type": "code",
   "execution_count": 11,
   "metadata": {
    "ExecuteTime": {
     "end_time": "2024-07-09T11:11:37.743285400Z",
     "start_time": "2024-07-09T11:11:37.719060700Z"
    }
   },
   "outputs": [],
   "source": [
    "def get_confusion_matrix(y_true,y_pred,labels):\n",
    "    trues, preds = [], []\n",
    "    for yseq_true, yseq_pred in zip(y_true, y_pred):\n",
    "        trues.extend(yseq_true)\n",
    "        preds.extend(yseq_pred)\n",
    "    print_cm(confusion_matrix(trues,preds,labels=labels),labels)"
   ]
  },
  {
   "cell_type": "code",
   "execution_count": 12,
   "metadata": {
    "ExecuteTime": {
     "end_time": "2024-07-09T11:11:38.230885700Z",
     "start_time": "2024-07-09T11:11:38.190225100Z"
    }
   },
   "outputs": [],
   "source": [
    "def train_seq(X_train, Y_train, X_dev, Y_dev, raw_test_data):\n",
    "    crf = CRF(algorithm='lbfgs', c1=0.1, c2=10, max_iterations=50)\n",
    "    crf.fit(X_train, Y_train)\n",
    "    y_pred = crf.predict(X_dev)\n",
    "    score = f1_score(Y_dev, y_pred)\n",
    "    print(f\"F1 Score: {score}\")\n",
    "    df = prepare_df(raw_test_data, y_pred)\n",
    "    return crf, df, score"
   ]
  },
  {
   "cell_type": "markdown",
   "source": [
    "## Visualize results"
   ],
   "metadata": {
    "collapsed": false
   }
  },
  {
   "cell_type": "code",
   "execution_count": 13,
   "metadata": {
    "ExecuteTime": {
     "end_time": "2024-07-09T11:11:39.525831800Z",
     "start_time": "2024-07-09T11:11:39.501604500Z"
    }
   },
   "outputs": [],
   "source": [
    "def get_score(model):\n",
    "    train_sentences, train_labels, test_sentences, test_labels = convert(model)\n",
    "    X_train, Y_train = get_feats_conll(train_sentences, train_labels)\n",
    "    X_dev, Y_dev = get_feats_conll(test_sentences, test_labels)\n",
    "    crf, df, score = train_seq(X_train, Y_train, X_dev, Y_dev, list(zip(test_sentences, test_labels)))"
   ]
  },
  {
   "cell_type": "markdown",
   "source": [
    "# Factrueval 2016"
   ],
   "metadata": {
    "collapsed": false
   }
  },
  {
   "cell_type": "code",
   "execution_count": 14,
   "outputs": [
    {
     "name": "stderr",
     "output_type": "stream",
     "text": [
      "Repo card metadata block was not found. Setting CardData to empty.\n"
     ]
    },
    {
     "name": "stdout",
     "output_type": "stream",
     "text": [
      "F1 Score: 0.41427571728481455\n"
     ]
    }
   ],
   "source": [
    "get_score(dataset[0])"
   ],
   "metadata": {
    "collapsed": false,
    "ExecuteTime": {
     "end_time": "2024-07-09T11:12:18.952418700Z",
     "start_time": "2024-07-09T11:11:40.625405Z"
    }
   }
  },
  {
   "cell_type": "markdown",
   "source": [
    "# Collection3"
   ],
   "metadata": {
    "collapsed": false
   }
  },
  {
   "cell_type": "code",
   "execution_count": 15,
   "outputs": [
    {
     "name": "stdout",
     "output_type": "stream",
     "text": [
      "F1 Score: 0.5405405405405406\n"
     ]
    }
   ],
   "source": [
    "get_score(dataset[1])"
   ],
   "metadata": {
    "collapsed": false,
    "ExecuteTime": {
     "end_time": "2024-07-09T11:12:54.786535400Z",
     "start_time": "2024-07-09T11:12:18.937157200Z"
    }
   }
  },
  {
   "cell_type": "markdown",
   "source": [
    "# Conll2003"
   ],
   "metadata": {
    "collapsed": false
   }
  },
  {
   "cell_type": "code",
   "execution_count": 16,
   "outputs": [
    {
     "name": "stdout",
     "output_type": "stream",
     "text": [
      "F1 Score: 0.6655570966250578\n"
     ]
    }
   ],
   "source": [
    "get_score(dataset[2])"
   ],
   "metadata": {
    "collapsed": false,
    "ExecuteTime": {
     "end_time": "2024-07-09T11:13:39.292251700Z",
     "start_time": "2024-07-09T11:12:54.779182400Z"
    }
   }
  },
  {
   "cell_type": "markdown",
   "source": [
    "# BC5CDR"
   ],
   "metadata": {
    "collapsed": false
   }
  },
  {
   "cell_type": "code",
   "execution_count": 17,
   "outputs": [
    {
     "name": "stderr",
     "output_type": "stream",
     "text": [
      "Repo card metadata block was not found. Setting CardData to empty.\n"
     ]
    },
    {
     "name": "stdout",
     "output_type": "stream",
     "text": [
      "F1 Score: 0.44982099549601573\n"
     ]
    }
   ],
   "source": [
    "get_score(dataset[3])"
   ],
   "metadata": {
    "collapsed": false,
    "ExecuteTime": {
     "end_time": "2024-07-09T11:14:09.574248900Z",
     "start_time": "2024-07-09T11:13:39.292251700Z"
    }
   }
  }
 ],
 "metadata": {
  "kernelspec": {
   "display_name": ".env",
   "language": "python",
   "name": "python3"
  },
  "language_info": {
   "codemirror_mode": {
    "name": "ipython",
    "version": 3
   },
   "file_extension": ".py",
   "mimetype": "text/x-python",
   "name": "python",
   "nbconvert_exporter": "python",
   "pygments_lexer": "ipython3",
   "version": "3.8.10"
  },
  "orig_nbformat": 4
 },
 "nbformat": 4,
 "nbformat_minor": 2
}
